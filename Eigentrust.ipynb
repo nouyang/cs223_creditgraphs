{
 "cells": [
  {
   "cell_type": "code",
   "execution_count": 87,
   "metadata": {},
   "outputs": [
    {
     "name": "stdout",
     "output_type": "stream",
     "text": [
      "[ True False  True  True  True False  True  True False  True]\n",
      "0 [0.95, 0.15]\n",
      "1 [0.98, 0.9, 0.09, 0.93, 0.87, 0.89]\n",
      "2 [0.89, 0.1, 0.91, 0.9, 0.09, 0.95]\n",
      "3 [0.08, 0.91, 0.91, 0.92, 0.05]\n",
      "4 [0.87, 0.87, 0.94]\n",
      "5 [0.17, 0.93]\n",
      "6 [0.18, 0.93]\n",
      "7 [0.09, 0.85]\n",
      "8 [0.98, 0.92]\n",
      "9 [0.1, 0.92]\n",
      "[(0, 2, {'weight': 0.231285628154948}), (0, 8, {'weight': 0.515571218773627}), (1, 2, {'weight': 0.026801890171861534}), (1, 3, {'weight': 0.028408027441089483}), (1, 5, {'weight': 0.15101837821443495}), (1, 6, {'weight': 0.16383407975089706}), (1, 7, {'weight': 0.1004281477985002}), (1, 9, {'weight': 0.10209550559152947}), (2, 3, {'weight': 0.31722965496805616}), (2, 4, {'weight': 0.3238533929119369}), (2, 5, {'weight': 0.8489816217855649}), (2, 9, {'weight': 0.8979044944084704}), (3, 4, {'weight': 0.32569671167287056}), (3, 7, {'weight': 0.8995718522014998}), (3, 8, {'weight': 0.484428781226373}), (4, 6, {'weight': 0.8361659202491029})]\n"
     ]
    },
    {
     "data": {
      "text/plain": [
       "<Figure size 640x480 with 0 Axes>"
      ]
     },
     "metadata": {},
     "output_type": "display_data"
    }
   ],
   "source": [
    "import numpy as np\n",
    "import networkx as nx\n",
    "import matplotlib.pyplot as plt\n",
    "\n",
    "small =  {0: [2, 8],\n",
    " 1: [2, 3, 5, 6, 7, 9],\n",
    " 2: [0, 1, 3, 4, 5, 9],\n",
    " 3: [1, 2, 4, 7, 8],\n",
    " 4: [2, 3, 6],\n",
    " 5: [1, 2],\n",
    " 6: [1, 4],\n",
    " 7: [1, 3],\n",
    " 8: [0, 3],\n",
    " 9: [1, 2]}\n",
    "\n",
    "G = nx.from_dict_of_lists(small)\n",
    "\n",
    "creditw_truth = np.random.random(10) > 0.5\n",
    "print(creditw_truth)\n",
    "\n",
    "\n",
    "p_true_posit = 0.90\n",
    "p_false_posit = 0.1\n",
    "std_dev = 0.05\n",
    "\n",
    "\n",
    "local_trust = {}\n",
    "for i in range(len(small)):\n",
    "    local_trust[i] = []\n",
    "    \n",
    "for nodeA, nodeBs in small.items():\n",
    "    for nodeB in nodeBs:\n",
    "        if creditw_truth[nodeB]:\n",
    "            # high likelihood\n",
    "            #rec = np.random.random() < p_true_posit\n",
    "            rec = min(np.random.normal(p_true_posit, std_dev),1)\n",
    "        else:\n",
    "            # small likelihood false positive\n",
    "            #rec = np.random.random() > p_true_posit\n",
    "            #rec = np.random.random() * p_true_posit\n",
    "            rec = max(np.random.normal(p_false_posit, std_dev),0)\n",
    "        local_trust[nodeA].append(rec)\n",
    "        \n",
    "for foo in local_trust:\n",
    "    print(foo, [round(z, 2) for z in local_trust[foo]])\n",
    "    \n",
    "normalized_local_trust = {}\n",
    "for i in range(len(small)):\n",
    "    normalized_local_trust[i] = np.array([])\n",
    "    \n",
    "for nodeA, trustB in local_trust.items():\n",
    "    trust = np.array(trustB)\n",
    "    trust /= trust.sum()\n",
    "    normalized_local_trust[nodeA] = trust\n",
    "\n",
    "for nodeA, vals in small.items():\n",
    "    for i, val in enumerate(vals):\n",
    "        G[nodeA][val]['weight'] = normalized_local_trust[nodeA][i]\n",
    "\n",
    "plt.figure(num=None, figsize=(8, 6), dpi=80, facecolor='w', edgecolor='k')\n",
    "\n",
    "#nx.draw(G, with_labels=True, node_size=700)\n",
    "#plt.show()\n",
    "\n",
    "G2 = nx.from_dict_of_lists(normalized_local_trust)\n",
    "A = nx.adj_matrix(G)\n",
    "print(G.edges(data=True))\n",
    "#print(A.todense())\n",
    "#print(nx.to_dict_of_dicts(G))"
   ]
  },
  {
   "cell_type": "code",
   "execution_count": 86,
   "metadata": {},
   "outputs": [],
   "source": [
    "# now mess with it so that the matrix is not symmetric... so let that be our baseline creditworthiness scores, but we also need our f"
   ]
  },
  {
   "cell_type": "code",
   "execution_count": 84,
   "metadata": {},
   "outputs": [
    {
     "name": "stdout",
     "output_type": "stream",
     "text": [
      "[[0. 0. 1. 0. 0. 0. 0. 0. 1. 0.]\n",
      " [0. 0. 1. 1. 0. 1. 1. 1. 0. 1.]\n",
      " [1. 1. 0. 1. 1. 1. 0. 0. 0. 1.]\n",
      " [0. 1. 1. 0. 1. 0. 0. 1. 1. 0.]\n",
      " [0. 0. 1. 1. 0. 0. 1. 0. 0. 0.]\n",
      " [0. 1. 1. 0. 0. 0. 0. 0. 0. 0.]\n",
      " [0. 1. 0. 0. 1. 0. 0. 0. 0. 0.]\n",
      " [0. 1. 0. 1. 0. 0. 0. 0. 0. 0.]\n",
      " [1. 0. 0. 1. 0. 0. 0. 0. 0. 0.]\n",
      " [0. 1. 1. 0. 0. 0. 0. 0. 0. 0.]]\n"
     ]
    }
   ],
   "source": [
    "# basically we have a creditw truth vector for each node\n",
    "np.set_printoptions(precision=3)\n",
    "weighted_adj = nx.to_numpy_matrix(G, weight='weight')\n",
    "print(weighted_adj)"
   ]
  },
  {
   "cell_type": "code",
   "execution_count": null,
   "metadata": {},
   "outputs": [],
   "source": []
  },
  {
   "cell_type": "code",
   "execution_count": 79,
   "metadata": {},
   "outputs": [
    {
     "name": "stdout",
     "output_type": "stream",
     "text": [
      "[[0.008 0.323 0.224 0.263 0.077 0.1   0.1   0.1   0.1   0.1  ]]\n"
     ]
    }
   ],
   "source": [
    "e = np.average(weighted_adj, axis=0)\n",
    "print(e)\n",
    "t = e\n",
    "for i in range(10):\n",
    "    t = "
   ]
  },
  {
   "cell_type": "code",
   "execution_count": null,
   "metadata": {},
   "outputs": [],
   "source": []
  }
 ],
 "metadata": {
  "kernelspec": {
   "display_name": "nxenv",
   "language": "python",
   "name": "nxenv"
  },
  "language_info": {
   "codemirror_mode": {
    "name": "ipython",
    "version": 3
   },
   "file_extension": ".py",
   "mimetype": "text/x-python",
   "name": "python",
   "nbconvert_exporter": "python",
   "pygments_lexer": "ipython3",
   "version": "3.7.4"
  }
 },
 "nbformat": 4,
 "nbformat_minor": 2
}
