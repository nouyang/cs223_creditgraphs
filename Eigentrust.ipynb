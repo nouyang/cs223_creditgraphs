{
 "cells": [
  {
   "cell_type": "code",
   "execution_count": 66,
   "metadata": {},
   "outputs": [
    {
     "name": "stdout",
     "output_type": "stream",
     "text": [
      "[False  True  True False  True False False  True  True  True]\n",
      "0 [0.92, 1]\n",
      "1 [0.88, 0.2, 0.06, 0, 0.89, 0.92]\n",
      "2 [0.14, 0.88, 0.03, 0.96, 0.05, 0.85]\n",
      "3 [0.95, 0.84, 0.98, 0.94, 0.83]\n",
      "4 [0.93, 0.07, 0.09]\n",
      "5 [0.87, 0.96]\n",
      "6 [0.98, 0.88]\n",
      "7 [0.93, 0.1]\n",
      "8 [0.02, 0.05]\n",
      "9 [0.99, 0.87]\n",
      "[(0, 2, {'weight': 0.04679925382746844}), (0, 8, {'weight': 0.2571831775487325}), (1, 2, {'weight': 0.30323178659480654}), (1, 3, {'weight': 0.2089690501896899}), (1, 5, {'weight': 0.47445236056387213}), (1, 6, {'weight': 0.528454766708967}), (1, 7, {'weight': 0.9071636511604325}), (1, 9, {'weight': 0.5327126403302712}), (2, 3, {'weight': 0.18455830356568573}), (2, 4, {'weight': 0.8518548217979275}), (2, 5, {'weight': 0.5255476394361279}), (2, 9, {'weight': 0.46728735966972873}), (3, 4, {'weight': 0.06468561169430594}), (3, 7, {'weight': 0.09283634883956754}), (3, 8, {'weight': 0.7428168224512675}), (4, 6, {'weight': 0.471545233291033})]\n"
     ]
    },
    {
     "data": {
      "text/plain": [
       "<Figure size 640x480 with 0 Axes>"
      ]
     },
     "metadata": {},
     "output_type": "display_data"
    }
   ],
   "source": [
    "import numpy as np\n",
    "import networkx as nx\n",
    "import matplotlib.pyplot as plt\n",
    "\n",
    "small =  {0: [2, 8],\n",
    " 1: [2, 3, 5, 6, 7, 9],\n",
    " 2: [0, 1, 3, 4, 5, 9],\n",
    " 3: [1, 2, 4, 7, 8],\n",
    " 4: [2, 3, 6],\n",
    " 5: [1, 2],\n",
    " 6: [1, 4],\n",
    " 7: [1, 3],\n",
    " 8: [0, 3],\n",
    " 9: [1, 2]}\n",
    "\n",
    "G = nx.from_dict_of_lists(small)\n",
    "\n",
    "creditw_truth = np.random.random(10) > 0.5\n",
    "print(creditw_truth)\n",
    "\n",
    "\n",
    "p_true_posit = 0.90\n",
    "p_false_posit = 0.1\n",
    "std_dev = 0.05\n",
    "\n",
    "\n",
    "local_trust = {}\n",
    "for i in range(len(small)):\n",
    "    local_trust[i] = []\n",
    "    \n",
    "for nodeA, nodeBs in small.items():\n",
    "    for nodeB in nodeBs:\n",
    "        if creditw_truth[nodeB]:\n",
    "            # high likelihood\n",
    "            #rec = np.random.random() < p_true_posit\n",
    "            rec = min(np.random.normal(p_true_posit, std_dev),1)\n",
    "        else:\n",
    "            # small likelihood false positive\n",
    "            #rec = np.random.random() > p_true_posit\n",
    "            #rec = np.random.random() * p_true_posit\n",
    "            rec = max(np.random.normal(p_false_posit, std_dev),0)\n",
    "        local_trust[nodeA].append(rec)\n",
    "        \n",
    "for foo in local_trust:\n",
    "    print(foo, [round(z, 2) for z in local_trust[foo]])\n",
    "    \n",
    "normalized_local_trust = {}\n",
    "for i in range(len(small)):\n",
    "    normalized_local_trust[i] = np.array([])\n",
    "    \n",
    "for nodeA, trustB in local_trust.items():\n",
    "    trust = np.array(trustB)\n",
    "    trust /= trust.sum()\n",
    "    normalized_local_trust[nodeA] = trust\n",
    "\n",
    "#for nodeA, vals in small.items():\n",
    "    #for i, val in enumerate(vals):\n",
    "        #G[nodeA][val]['weight'] = normalized_local_trust[nodeA][i]\n",
    "\n",
    "G.to_numpy_matrix(G, )\n",
    "plt.figure(num=None, figsize=(8, 6), dpi=80, facecolor='w', edgecolor='k')\n",
    "\n",
    "#nx.draw(G, with_labels=True, node_size=700)\n",
    "#plt.show()\n",
    "\n",
    "G2 = nx.from_dict_of_lists(normalized_local_trust)\n",
    "A = nx.adj_matrix(G)\n",
    "print(G.edges(data=True))\n",
    "#print(A.todense())\n",
    "#print(nx.to_dict_of_dicts(G))"
   ]
  },
  {
   "cell_type": "code",
   "execution_count": null,
   "metadata": {},
   "outputs": [],
   "source": [
    "# basically we have a creditw truth vector for each node\n"
   ]
  }
 ],
 "metadata": {
  "kernelspec": {
   "display_name": "nxenv",
   "language": "python",
   "name": "nxenv"
  },
  "language_info": {
   "codemirror_mode": {
    "name": "ipython",
    "version": 3
   },
   "file_extension": ".py",
   "mimetype": "text/x-python",
   "name": "python",
   "nbconvert_exporter": "python",
   "pygments_lexer": "ipython3",
   "version": "3.7.4"
  }
 },
 "nbformat": 4,
 "nbformat_minor": 2
}
