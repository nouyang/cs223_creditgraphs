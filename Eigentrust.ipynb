{
 "cells": [
  {
   "cell_type": "code",
   "execution_count": 49,
   "metadata": {},
   "outputs": [
    {
     "name": "stdout",
     "output_type": "stream",
     "text": [
      "[False  True  True  True False  True False False  True False]\n",
      "0 [0.91, 0.94]\n",
      "1 [0.9, 1, 0.89, 0.13, 0.2, 0.11]\n",
      "2 [0.09, 0.78, 0.92, 0.05, 0.9, 0.05]\n",
      "3 [0.96, 0.89, 0.14, 0.09, 0.87]\n",
      "4 [0.87, 0.79, 0.02]\n",
      "5 [0.76, 0.94]\n",
      "6 [0.86, 0.13]\n",
      "7 [0.88, 1]\n",
      "8 [0.05, 0.88]\n",
      "9 [0.88, 0.9]\n",
      "  (0, 2)\t1\n",
      "  (0, 8)\t1\n",
      "  (1, 2)\t1\n",
      "  (1, 3)\t1\n",
      "  (1, 5)\t1\n",
      "  (1, 6)\t1\n",
      "  (1, 7)\t1\n",
      "  (1, 9)\t1\n",
      "  (2, 0)\t1\n",
      "  (2, 1)\t1\n",
      "  (2, 3)\t1\n",
      "  (2, 4)\t1\n",
      "  (2, 5)\t1\n",
      "  (2, 9)\t1\n",
      "  (3, 1)\t1\n",
      "  (3, 2)\t1\n",
      "  (3, 4)\t1\n",
      "  (3, 7)\t1\n",
      "  (3, 8)\t1\n",
      "  (4, 2)\t1\n",
      "  (4, 3)\t1\n",
      "  (4, 6)\t1\n",
      "  (5, 1)\t1\n",
      "  (5, 2)\t1\n",
      "  (6, 1)\t1\n",
      "  (6, 4)\t1\n",
      "  (7, 1)\t1\n",
      "  (7, 3)\t1\n",
      "  (8, 0)\t1\n",
      "  (8, 3)\t1\n",
      "  (9, 1)\t1\n",
      "  (9, 2)\t1\n"
     ]
    },
    {
     "data": {
      "text/plain": [
       "<Figure size 640x480 with 0 Axes>"
      ]
     },
     "metadata": {},
     "output_type": "display_data"
    }
   ],
   "source": [
    "import numpy as np\n",
    "import networkx as nx\n",
    "import matplotlib.pyplot as plt\n",
    "\n",
    "small =  {0: [2, 8],\n",
    " 1: [2, 3, 5, 6, 7, 9],\n",
    " 2: [0, 1, 3, 4, 5, 9],\n",
    " 3: [1, 2, 4, 7, 8],\n",
    " 4: [2, 3, 6],\n",
    " 5: [1, 2],\n",
    " 6: [1, 4],\n",
    " 7: [1, 3],\n",
    " 8: [0, 3],\n",
    " 9: [1, 2]}\n",
    "\n",
    "G = nx.from_dict_of_lists(small)\n",
    "\n",
    "creditw_truth = np.random.random(10) > 0.5\n",
    "print(creditw_truth)\n",
    "\n",
    "\n",
    "p_true_posit = 0.90\n",
    "p_false_posit = 0.1\n",
    "std_dev = 0.05\n",
    "\n",
    "\n",
    "local_trust = {}\n",
    "for i in range(len(small)):\n",
    "    local_trust[i] = []\n",
    "    \n",
    "for nodeA, nodeBs in small.items():\n",
    "    for nodeB in nodeBs:\n",
    "        if creditw_truth[nodeB]:\n",
    "            # high likelihood\n",
    "            #rec = np.random.random() < p_true_posit\n",
    "            rec = min(np.random.normal(p_true_posit, std_dev),1)\n",
    "        else:\n",
    "            # small likelihood false positive\n",
    "            #rec = np.random.random() > p_true_posit\n",
    "            #rec = np.random.random() * p_true_posit\n",
    "            rec = max(np.random.normal(p_false_posit, std_dev),0)\n",
    "        local_trust[nodeA].append(rec)\n",
    "        \n",
    "for foo in local_trust:\n",
    "    print(foo, [round(z, 2) for z in local_trust[foo]])\n",
    "    \n",
    "normalized_local_trust = {}\n",
    "for i in range(len(small)):\n",
    "    normalized_local_trust[i] = np.array([])\n",
    "    \n",
    "for nodeA, trustB in local_trust.items():\n",
    "    trust = np.array(trustB)\n",
    "    trust /= trust.sum()\n",
    "    normalized_local_trust[nodeA] = trust\n",
    "\n",
    "plt.figure(num=None, figsize=(8, 6), dpi=80, facecolor='w', edgecolor='k')\n",
    "#nx.draw(G, with_labels=True, node_size=700)\n",
    "#plt.show()\n",
    "\n",
    "print(nx.adj_matrix(G))"
   ]
  },
  {
   "cell_type": "code",
   "execution_count": null,
   "metadata": {},
   "outputs": [],
   "source": [
    "# basically we have a creditw truth vector for each node"
   ]
  }
 ],
 "metadata": {
  "kernelspec": {
   "display_name": "nxenv",
   "language": "python",
   "name": "nxenv"
  },
  "language_info": {
   "codemirror_mode": {
    "name": "ipython",
    "version": 3
   },
   "file_extension": ".py",
   "mimetype": "text/x-python",
   "name": "python",
   "nbconvert_exporter": "python",
   "pygments_lexer": "ipython3",
   "version": "3.7.4"
  }
 },
 "nbformat": 4,
 "nbformat_minor": 2
}
