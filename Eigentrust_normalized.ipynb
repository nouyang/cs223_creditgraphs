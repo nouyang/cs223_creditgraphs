{
 "cells": [
  {
   "cell_type": "code",
   "execution_count": 70,
   "metadata": {},
   "outputs": [
    {
     "name": "stdout",
     "output_type": "stream",
     "text": [
      "[False  True False False False  True  True False  True False]\n",
      "[[0. 0. 1. 0. 0. 0. 0. 0. 1. 0.]\n",
      " [0. 0. 1. 1. 0. 1. 1. 1. 0. 1.]\n",
      " [1. 1. 0. 1. 1. 1. 0. 0. 0. 1.]\n",
      " [0. 1. 1. 0. 1. 0. 0. 1. 1. 0.]\n",
      " [0. 0. 1. 1. 0. 0. 1. 0. 0. 0.]\n",
      " [0. 1. 1. 0. 0. 0. 0. 0. 0. 0.]\n",
      " [0. 1. 0. 0. 1. 0. 0. 0. 0. 0.]\n",
      " [0. 1. 0. 1. 0. 0. 0. 0. 0. 0.]\n",
      " [1. 0. 0. 1. 0. 0. 0. 0. 0. 0.]\n",
      " [0. 1. 1. 0. 0. 0. 0. 0. 0. 0.]]\n",
      "[[0.    0.    0.214 0.    0.    0.    0.    0.    0.865 0.   ]\n",
      " [0.    0.    0.093 0.195 0.    0.914 0.866 0.066 0.    0.012]\n",
      " [0.149 0.971 0.    0.091 0.004 1.    0.    0.    0.    0.082]\n",
      " [0.    0.816 0.177 0.    0.143 0.    0.    0.215 0.929 0.   ]\n",
      " [0.    0.    0.096 0.02  0.    0.    0.877 0.    0.    0.   ]\n",
      " [0.    0.94  0.134 0.    0.    0.    0.    0.    0.    0.   ]\n",
      " [0.    0.803 0.    0.    0.119 0.    0.    0.    0.    0.   ]\n",
      " [0.    0.872 0.    0.089 0.    0.    0.    0.    0.    0.   ]\n",
      " [0.113 0.    0.    0.087 0.    0.    0.    0.    0.    0.   ]\n",
      " [0.    0.885 0.129 0.    0.    0.    0.    0.    0.    0.   ]]\n",
      "[1.079 2.147 2.298 2.281 0.993 1.073 0.922 0.961 0.2   1.014]\n",
      "[[0.    0.    0.198 0.    0.    0.    0.    0.    0.802 0.   ]\n",
      " [0.    0.    0.044 0.091 0.    0.426 0.403 0.031 0.    0.006]\n",
      " [0.065 0.423 0.    0.04  0.002 0.435 0.    0.    0.    0.036]\n",
      " [0.    0.358 0.078 0.    0.063 0.    0.    0.094 0.407 0.   ]\n",
      " [0.    0.    0.097 0.021 0.    0.    0.883 0.    0.    0.   ]\n",
      " [0.    0.875 0.125 0.    0.    0.    0.    0.    0.    0.   ]\n",
      " [0.    0.871 0.    0.    0.129 0.    0.    0.    0.    0.   ]\n",
      " [0.    0.908 0.    0.092 0.    0.    0.    0.    0.    0.   ]\n",
      " [0.565 0.    0.    0.435 0.    0.    0.    0.    0.    0.   ]\n",
      " [0.    0.873 0.127 0.    0.    0.    0.    0.    0.    0.   ]]\n"
     ]
    }
   ],
   "source": [
    "import numpy as np\n",
    "import networkx as nx\n",
    "import matplotlib.pyplot as plt\n",
    "\n",
    "small =  {0: [2, 8],\n",
    " 1: [2, 3, 5, 6, 7, 9],\n",
    " 2: [0, 1, 3, 4, 5, 9],\n",
    " 3: [1, 2, 4, 7, 8],\n",
    " 4: [2, 3, 6],\n",
    " 5: [1, 2],\n",
    " 6: [1, 4],\n",
    " 7: [1, 3],\n",
    " 8: [0, 3],\n",
    " 9: [1, 2]}\n",
    "\n",
    "G = nx.from_dict_of_lists(small)\n",
    "\n",
    "creditw_truth = np.random.random(10) > 0.5\n",
    "print(creditw_truth)\n",
    "\n",
    "\n",
    "p_true_posit = 0.90\n",
    "p_false_posit = 0.1\n",
    "std_dev = 0.05\n",
    "\n",
    "\n",
    "G_adj = nx.to_numpy_matrix(G)\n",
    "print(G_adj)\n",
    "local_trust = np.array(G_adj.copy() )\n",
    "\n",
    "for (x,y), element in np.ndenumerate(G_adj):\n",
    "    if element:\n",
    "        if creditw_truth[y]:\n",
    "            rec = min(np.random.normal(p_true_posit, std_dev),1)\n",
    "        else:\n",
    "            rec = max(np.random.normal(p_false_posit, std_dev),0)\n",
    "        local_trust[x][y] = rec\n",
    "    # else, not connected\n",
    "np.set_printoptions(precision=3)\n",
    "print(local_trust)\n",
    "\n",
    "local_trust = np.array(local_trust)\n",
    "print(np.sum(local_trust, axis=1))\n",
    "normalized_local_trust = (local_trust.T / np.sum(local_trust, axis=1)).T\n",
    "print(normalized_local_trust)\n"
   ]
  },
  {
   "cell_type": "code",
   "execution_count": 67,
   "metadata": {},
   "outputs": [
    {
     "ename": "NameError",
     "evalue": "name 'local_trus' is not defined",
     "output_type": "error",
     "traceback": [
      "\u001b[0;31m---------------------------------------------------------------------------\u001b[0m",
      "\u001b[0;31mNameError\u001b[0m                                 Traceback (most recent call last)",
      "\u001b[0;32m<ipython-input-67-b3e5b3aa2eb5>\u001b[0m in \u001b[0;36m<module>\u001b[0;34m\u001b[0m\n\u001b[0;32m----> 1\u001b[0;31m \u001b[0mprint\u001b[0m\u001b[0;34m(\u001b[0m\u001b[0mlocal_trus\u001b[0m\u001b[0;34m)\u001b[0m\u001b[0;34m\u001b[0m\u001b[0;34m\u001b[0m\u001b[0m\n\u001b[0m\u001b[1;32m      2\u001b[0m \u001b[0;32mfor\u001b[0m \u001b[0mi\u001b[0m \u001b[0;32min\u001b[0m \u001b[0mrange\u001b[0m\u001b[0;34m(\u001b[0m\u001b[0;36m10\u001b[0m\u001b[0;34m)\u001b[0m\u001b[0;34m:\u001b[0m\u001b[0;34m\u001b[0m\u001b[0;34m\u001b[0m\u001b[0m\n\u001b[1;32m      3\u001b[0m     \u001b[0;32mfor\u001b[0m \u001b[0mj\u001b[0m \u001b[0;32min\u001b[0m \u001b[0mrange\u001b[0m\u001b[0;34m(\u001b[0m\u001b[0;36m10\u001b[0m\u001b[0;34m)\u001b[0m\u001b[0;34m:\u001b[0m\u001b[0;34m\u001b[0m\u001b[0;34m\u001b[0m\u001b[0m\n\u001b[1;32m      4\u001b[0m         \u001b[0;32mif\u001b[0m \u001b[0mG_adj\u001b[0m\u001b[0;34m[\u001b[0m\u001b[0mi\u001b[0m\u001b[0;34m]\u001b[0m\u001b[0;34m[\u001b[0m\u001b[0mj\u001b[0m\u001b[0;34m]\u001b[0m\u001b[0;34m:\u001b[0m\u001b[0;34m\u001b[0m\u001b[0;34m\u001b[0m\u001b[0m\n\u001b[1;32m      5\u001b[0m             \u001b[0;32mif\u001b[0m \u001b[0mcreditw_truth\u001b[0m\u001b[0;34m[\u001b[0m\u001b[0mj\u001b[0m\u001b[0;34m]\u001b[0m\u001b[0;34m:\u001b[0m\u001b[0;34m\u001b[0m\u001b[0;34m\u001b[0m\u001b[0m\n",
      "\u001b[0;31mNameError\u001b[0m: name 'local_trus' is not defined"
     ]
    }
   ],
   "source": [
    "print(local_trus)\n",
    "for i in range(10):\n",
    "    for j in range(10):\n",
    "        if G_adj[i][j]:\n",
    "            if creditw_truth[j]:\n",
    "                rec = min(np.random.normal(p_true_posit, std_dev),1)\n",
    "            else:\n",
    "                rec = max(np.random.normal(p_false_posit, std_dev),0)\n",
    "            local_trust[i][j] = rec\n",
    "print(local_trust)\n",
    "\n",
    "\n",
    "                \n",
    "            \n",
    "            \n",
    "    "
   ]
  },
  {
   "cell_type": "code",
   "execution_count": 2,
   "metadata": {},
   "outputs": [
    {
     "name": "stdout",
     "output_type": "stream",
     "text": [
      "[False False False False False False False  True  True  True]\n",
      "{0: [False, True], 1: [False, False, False, False, True, True], 2: [False, False, False, False, False, True], 3: [False, False, False, True, True], 4: [False, False, False], 5: [False, False], 6: [False, False], 7: [False, False], 8: [False, False], 9: [False, False]}\n"
     ]
    },
    {
     "ename": "AttributeError",
     "evalue": "'dict' object has no attribute 'edges'",
     "output_type": "error",
     "traceback": [
      "\u001b[0;31m---------------------------------------------------------------------------\u001b[0m",
      "\u001b[0;31mAttributeError\u001b[0m                            Traceback (most recent call last)",
      "\u001b[0;32m<ipython-input-2-61c35e112b64>\u001b[0m in \u001b[0;36m<module>\u001b[0;34m\u001b[0m\n\u001b[1;32m     40\u001b[0m \u001b[0mprint\u001b[0m\u001b[0;34m(\u001b[0m\u001b[0mlocal_trust\u001b[0m\u001b[0;34m)\u001b[0m\u001b[0;34m\u001b[0m\u001b[0;34m\u001b[0m\u001b[0m\n\u001b[1;32m     41\u001b[0m \u001b[0;34m\u001b[0m\u001b[0m\n\u001b[0;32m---> 42\u001b[0;31m \u001b[0mcred_trust\u001b[0m \u001b[0;34m=\u001b[0m \u001b[0mnx\u001b[0m\u001b[0;34m.\u001b[0m\u001b[0madj_matrix\u001b[0m\u001b[0;34m(\u001b[0m\u001b[0mlocal_trust\u001b[0m\u001b[0;34m)\u001b[0m\u001b[0;34m\u001b[0m\u001b[0;34m\u001b[0m\u001b[0m\n\u001b[0m\u001b[1;32m     43\u001b[0m \u001b[0mprint\u001b[0m\u001b[0;34m(\u001b[0m\u001b[0mcred_trust\u001b[0m\u001b[0;34m)\u001b[0m\u001b[0;34m\u001b[0m\u001b[0;34m\u001b[0m\u001b[0m\n\u001b[1;32m     44\u001b[0m \u001b[0;34m\u001b[0m\u001b[0m\n",
      "\u001b[0;32m~/Documents/Fall2019/CS 223/cs223_creditgraphs/nxenv/lib/python3.7/site-packages/networkx/linalg/graphmatrix.py\u001b[0m in \u001b[0;36madjacency_matrix\u001b[0;34m(G, nodelist, weight)\u001b[0m\n\u001b[1;32m    161\u001b[0m     \u001b[0madjacency_spectrum\u001b[0m\u001b[0;34m\u001b[0m\u001b[0;34m\u001b[0m\u001b[0m\n\u001b[1;32m    162\u001b[0m     \"\"\"\n\u001b[0;32m--> 163\u001b[0;31m     \u001b[0;32mreturn\u001b[0m \u001b[0mnx\u001b[0m\u001b[0;34m.\u001b[0m\u001b[0mto_scipy_sparse_matrix\u001b[0m\u001b[0;34m(\u001b[0m\u001b[0mG\u001b[0m\u001b[0;34m,\u001b[0m \u001b[0mnodelist\u001b[0m\u001b[0;34m=\u001b[0m\u001b[0mnodelist\u001b[0m\u001b[0;34m,\u001b[0m \u001b[0mweight\u001b[0m\u001b[0;34m=\u001b[0m\u001b[0mweight\u001b[0m\u001b[0;34m)\u001b[0m\u001b[0;34m\u001b[0m\u001b[0;34m\u001b[0m\u001b[0m\n\u001b[0m\u001b[1;32m    164\u001b[0m \u001b[0;34m\u001b[0m\u001b[0m\n\u001b[1;32m    165\u001b[0m \u001b[0;34m\u001b[0m\u001b[0m\n",
      "\u001b[0;32m~/Documents/Fall2019/CS 223/cs223_creditgraphs/nxenv/lib/python3.7/site-packages/networkx/convert_matrix.py\u001b[0m in \u001b[0;36mto_scipy_sparse_matrix\u001b[0;34m(G, nodelist, dtype, weight, format)\u001b[0m\n\u001b[1;32m    781\u001b[0m     \u001b[0mindex\u001b[0m \u001b[0;34m=\u001b[0m \u001b[0mdict\u001b[0m\u001b[0;34m(\u001b[0m\u001b[0mzip\u001b[0m\u001b[0;34m(\u001b[0m\u001b[0mnodelist\u001b[0m\u001b[0;34m,\u001b[0m \u001b[0mrange\u001b[0m\u001b[0;34m(\u001b[0m\u001b[0mnlen\u001b[0m\u001b[0;34m)\u001b[0m\u001b[0;34m)\u001b[0m\u001b[0;34m)\u001b[0m\u001b[0;34m\u001b[0m\u001b[0;34m\u001b[0m\u001b[0m\n\u001b[1;32m    782\u001b[0m     coefficients = zip(*((index[u], index[v], d.get(weight, 1))\n\u001b[0;32m--> 783\u001b[0;31m                          \u001b[0;32mfor\u001b[0m \u001b[0mu\u001b[0m\u001b[0;34m,\u001b[0m \u001b[0mv\u001b[0m\u001b[0;34m,\u001b[0m \u001b[0md\u001b[0m \u001b[0;32min\u001b[0m \u001b[0mG\u001b[0m\u001b[0;34m.\u001b[0m\u001b[0medges\u001b[0m\u001b[0;34m(\u001b[0m\u001b[0mnodelist\u001b[0m\u001b[0;34m,\u001b[0m \u001b[0mdata\u001b[0m\u001b[0;34m=\u001b[0m\u001b[0;32mTrue\u001b[0m\u001b[0;34m)\u001b[0m\u001b[0;34m\u001b[0m\u001b[0;34m\u001b[0m\u001b[0m\n\u001b[0m\u001b[1;32m    784\u001b[0m                          if u in index and v in index))\n\u001b[1;32m    785\u001b[0m     \u001b[0;32mtry\u001b[0m\u001b[0;34m:\u001b[0m\u001b[0;34m\u001b[0m\u001b[0;34m\u001b[0m\u001b[0m\n",
      "\u001b[0;31mAttributeError\u001b[0m: 'dict' object has no attribute 'edges'"
     ]
    }
   ],
   "source": [
    "  \n",
    "num_nodes = 10\n",
    "for i, j in range(num_nodes):\n",
    "    \n",
    "for nodeA, nodeBs in local_trust.items():\n",
    "    for nodeB in nodeBs:\n",
    "        if creditw_truth[nodeB]:\n",
    "            rec = True\n",
    "        else:\n",
    "            rec = False \n",
    "        local_trust[nodeA].append(rec)\n",
    "        \n",
    "\n",
    "cred_trust = nx.adj_matrix(local_trust)\n",
    "print(cred_trust)\n",
    "    \n",
    "\n",
    "plt.figure(num=None, figsize=(8, 6), dpi=80, facecolor='w', edgecolor='k')\n",
    "\n",
    "#nx.draw(G, with_labels=True, node_size=700)\n",
    "#plt.show()\n",
    "\n",
    "#G2 = nx.from_dict_of_lists(normalized_local_trust)\n",
    "A = nx.adj_matrix(G)\n",
    "print(G.edges(data=True))"
   ]
  },
  {
   "cell_type": "code",
   "execution_count": null,
   "metadata": {},
   "outputs": [],
   "source": []
  }
 ],
 "metadata": {
  "kernelspec": {
   "display_name": "nxenv",
   "language": "python",
   "name": "nxenv"
  },
  "language_info": {
   "codemirror_mode": {
    "name": "ipython",
    "version": 3
   },
   "file_extension": ".py",
   "mimetype": "text/x-python",
   "name": "python",
   "nbconvert_exporter": "python",
   "pygments_lexer": "ipython3",
   "version": "3.7.4"
  }
 },
 "nbformat": 4,
 "nbformat_minor": 2
}
