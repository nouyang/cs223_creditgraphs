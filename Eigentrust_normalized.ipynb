{
 "cells": [
  {
   "cell_type": "code",
   "execution_count": 70,
   "metadata": {},
   "outputs": [
    {
     "name": "stdout",
     "output_type": "stream",
     "text": [
      "[False  True False False False  True  True False  True False]\n",
      "[[0. 0. 1. 0. 0. 0. 0. 0. 1. 0.]\n",
      " [0. 0. 1. 1. 0. 1. 1. 1. 0. 1.]\n",
      " [1. 1. 0. 1. 1. 1. 0. 0. 0. 1.]\n",
      " [0. 1. 1. 0. 1. 0. 0. 1. 1. 0.]\n",
      " [0. 0. 1. 1. 0. 0. 1. 0. 0. 0.]\n",
      " [0. 1. 1. 0. 0. 0. 0. 0. 0. 0.]\n",
      " [0. 1. 0. 0. 1. 0. 0. 0. 0. 0.]\n",
      " [0. 1. 0. 1. 0. 0. 0. 0. 0. 0.]\n",
      " [1. 0. 0. 1. 0. 0. 0. 0. 0. 0.]\n",
      " [0. 1. 1. 0. 0. 0. 0. 0. 0. 0.]]\n",
      "[[0.    0.    0.214 0.    0.    0.    0.    0.    0.865 0.   ]\n",
      " [0.    0.    0.093 0.195 0.    0.914 0.866 0.066 0.    0.012]\n",
      " [0.149 0.971 0.    0.091 0.004 1.    0.    0.    0.    0.082]\n",
      " [0.    0.816 0.177 0.    0.143 0.    0.    0.215 0.929 0.   ]\n",
      " [0.    0.    0.096 0.02  0.    0.    0.877 0.    0.    0.   ]\n",
      " [0.    0.94  0.134 0.    0.    0.    0.    0.    0.    0.   ]\n",
      " [0.    0.803 0.    0.    0.119 0.    0.    0.    0.    0.   ]\n",
      " [0.    0.872 0.    0.089 0.    0.    0.    0.    0.    0.   ]\n",
      " [0.113 0.    0.    0.087 0.    0.    0.    0.    0.    0.   ]\n",
      " [0.    0.885 0.129 0.    0.    0.    0.    0.    0.    0.   ]]\n",
      "[1.079 2.147 2.298 2.281 0.993 1.073 0.922 0.961 0.2   1.014]\n",
      "[[0.    0.    0.198 0.    0.    0.    0.    0.    0.802 0.   ]\n",
      " [0.    0.    0.044 0.091 0.    0.426 0.403 0.031 0.    0.006]\n",
      " [0.065 0.423 0.    0.04  0.002 0.435 0.    0.    0.    0.036]\n",
      " [0.    0.358 0.078 0.    0.063 0.    0.    0.094 0.407 0.   ]\n",
      " [0.    0.    0.097 0.021 0.    0.    0.883 0.    0.    0.   ]\n",
      " [0.    0.875 0.125 0.    0.    0.    0.    0.    0.    0.   ]\n",
      " [0.    0.871 0.    0.    0.129 0.    0.    0.    0.    0.   ]\n",
      " [0.    0.908 0.    0.092 0.    0.    0.    0.    0.    0.   ]\n",
      " [0.565 0.    0.    0.435 0.    0.    0.    0.    0.    0.   ]\n",
      " [0.    0.873 0.127 0.    0.    0.    0.    0.    0.    0.   ]]\n"
     ]
    }
   ],
   "source": [
    "import numpy as np\n",
    "import networkx as nx\n",
    "import matplotlib.pyplot as plt\n",
    "\n",
    "small =  {0: [2, 8],\n",
    " 1: [2, 3, 5, 6, 7, 9],\n",
    " 2: [0, 1, 3, 4, 5, 9],\n",
    " 3: [1, 2, 4, 7, 8],\n",
    " 4: [2, 3, 6],\n",
    " 5: [1, 2],\n",
    " 6: [1, 4],\n",
    " 7: [1, 3],\n",
    " 8: [0, 3],\n",
    " 9: [1, 2]}\n",
    "\n",
    "G = nx.from_dict_of_lists(small)\n",
    "\n",
    "creditw_truth = np.random.random(10) > 0.5\n",
    "print(creditw_truth)\n",
    "\n",
    "\n",
    "p_true_posit = 0.90\n",
    "p_false_posit = 0.1\n",
    "std_dev = 0.05\n",
    "\n",
    "\n",
    "G_adj = nx.to_numpy_matrix(G)\n",
    "print(G_adj)\n",
    "local_trust = np.array(G_adj.copy() )\n",
    "\n",
    "for (x,y), element in np.ndenumerate(G_adj):\n",
    "    if element:\n",
    "        if creditw_truth[y]:\n",
    "            rec = min(np.random.normal(p_true_posit, std_dev),1)\n",
    "        else:\n",
    "            rec = max(np.random.normal(p_false_posit, std_dev),0)\n",
    "        local_trust[x][y] = rec\n",
    "    # else, not connected\n",
    "np.set_printoptions(precision=3)\n",
    "print(local_trust)\n",
    "\n",
    "local_trust = np.array(local_trust)\n",
    "print(np.sum(local_trust, axis=1))\n",
    "normalized_local_trust = (local_trust.T / np.sum(local_trust, axis=1)).T\n",
    "print(normalized_local_trust)"
   ]
  },
  {
   "cell_type": "code",
   "execution_count": 75,
   "metadata": {},
   "outputs": [
    {
     "name": "stdout",
     "output_type": "stream",
     "text": [
      "[0.063 0.431 0.067 0.068 0.019 0.086 0.129 0.013 0.121 0.004]\n",
      "t\n"
     ]
    }
   ],
   "source": [
    "e = np.average(normalized_local_trust, axis=0)\n",
    "C = normalized_local_trust\n",
    "print(e)\n",
    "\n",
    "t = np.dot(C.T, e)\n",
    "print('t')\n",
    "\n",
    "scores = t.copy()\n",
    "for i in range(10):\n",
    "    new_scores = np.dot(C.T, scores)\n",
    "    p\n",
    "    dist = new_scores - scores\n",
    "    scores = new_scores\n"
   ]
  },
  {
   "cell_type": "code",
   "execution_count": null,
   "metadata": {},
   "outputs": [],
   "source": [
    "  "
   ]
  },
  {
   "cell_type": "code",
   "execution_count": null,
   "metadata": {},
   "outputs": [],
   "source": []
  }
 ],
 "metadata": {
  "kernelspec": {
   "display_name": "nxenv",
   "language": "python",
   "name": "nxenv"
  },
  "language_info": {
   "codemirror_mode": {
    "name": "ipython",
    "version": 3
   },
   "file_extension": ".py",
   "mimetype": "text/x-python",
   "name": "python",
   "nbconvert_exporter": "python",
   "pygments_lexer": "ipython3",
   "version": "3.7.4"
  }
 },
 "nbformat": 4,
 "nbformat_minor": 2
}
